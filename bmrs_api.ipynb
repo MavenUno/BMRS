{
 "cells": [
  {
   "cell_type": "markdown",
   "id": "116ae395",
   "metadata": {},
   "source": [
    "# ELEXON REST API"
   ]
  },
  {
   "cell_type": "code",
   "execution_count": null,
   "id": "c5e6abd7",
   "metadata": {},
   "outputs": [],
   "source": [
    "import os"
   ]
  },
  {
   "cell_type": "code",
   "execution_count": 378,
   "id": "6cb79e0d",
   "metadata": {},
   "outputs": [],
   "source": [
    "import pandas as pd\n",
    "import numpy as np\n",
    "import requests\n",
    "import pprint\n",
    "import datetime as dt\n",
    "import xmltodict\n",
    "from collections import OrderedDict\n",
    "from datetime import date, timedelta"
   ]
  },
  {
   "cell_type": "markdown",
   "id": "a830ea6a",
   "metadata": {},
   "source": [
    "# Core Code and Results"
   ]
  },
  {
   "cell_type": "markdown",
   "id": "b1387810",
   "metadata": {},
   "source": [
    "### The previous day start and end parameter"
   ]
  },
  {
   "cell_type": "code",
   "execution_count": 379,
   "id": "7bb13a6d",
   "metadata": {},
   "outputs": [],
   "source": [
    "start_period = (date.today() - timedelta(days = 1)).strftime(\"%Y-%m-%d\")\n",
    "end_period=date.today().strftime(\"%Y-%m-%d\")"
   ]
  },
  {
   "cell_type": "markdown",
   "id": "a9eff437",
   "metadata": {},
   "source": [
    "### Daylight saving affects the no of settlement periods per day"
   ]
  },
  {
   "cell_type": "code",
   "execution_count": 380,
   "id": "0059771a",
   "metadata": {},
   "outputs": [],
   "source": [
    "df= daylight_saving(start_period,end_period)\n",
    "sp= df['SP'].count()"
   ]
  },
  {
   "cell_type": "code",
   "execution_count": 381,
   "id": "ff0673f5",
   "metadata": {},
   "outputs": [],
   "source": [
    "API_Key='vkhtouuhym6tm36'"
   ]
  },
  {
   "cell_type": "markdown",
   "id": "6368b266",
   "metadata": {},
   "source": [
    "## REST API GET REQUEST"
   ]
  },
  {
   "cell_type": "code",
   "execution_count": 382,
   "id": "d8fac0ba",
   "metadata": {},
   "outputs": [],
   "source": [
    "df_b1770 = get_B1770(api_key=API_Key,settlement_period=start_period,periods=sp)"
   ]
  },
  {
   "cell_type": "code",
   "execution_count": 383,
   "id": "b21f42be",
   "metadata": {},
   "outputs": [],
   "source": [
    "df_b1780 = get_B1780(api_key=API_Key,settlement_period=start_period,periods=sp)"
   ]
  },
  {
   "cell_type": "markdown",
   "id": "89c17cdb",
   "metadata": {},
   "source": [
    "### Cleaning Data and Checking for Errors and Exception"
   ]
  },
  {
   "cell_type": "code",
   "execution_count": 384,
   "id": "1f719b1e",
   "metadata": {},
   "outputs": [
    {
     "data": {
      "text/html": [
       "<div>\n",
       "<style scoped>\n",
       "    .dataframe tbody tr th:only-of-type {\n",
       "        vertical-align: middle;\n",
       "    }\n",
       "\n",
       "    .dataframe tbody tr th {\n",
       "        vertical-align: top;\n",
       "    }\n",
       "\n",
       "    .dataframe thead th {\n",
       "        text-align: right;\n",
       "    }\n",
       "</style>\n",
       "<table border=\"1\" class=\"dataframe\">\n",
       "  <thead>\n",
       "    <tr style=\"text-align: right;\">\n",
       "      <th></th>\n",
       "      <th>Date</th>\n",
       "      <th>Period</th>\n",
       "      <th>Price</th>\n",
       "      <th>priceCategory</th>\n",
       "    </tr>\n",
       "  </thead>\n",
       "  <tbody>\n",
       "    <tr>\n",
       "      <th>0</th>\n",
       "      <td>2022-06-05</td>\n",
       "      <td>1</td>\n",
       "      <td>155</td>\n",
       "      <td>Insufficient balance</td>\n",
       "    </tr>\n",
       "    <tr>\n",
       "      <th>1</th>\n",
       "      <td>2022-06-05</td>\n",
       "      <td>1</td>\n",
       "      <td>155</td>\n",
       "      <td>Excess balance</td>\n",
       "    </tr>\n",
       "    <tr>\n",
       "      <th>0</th>\n",
       "      <td>2022-06-05</td>\n",
       "      <td>2</td>\n",
       "      <td>160</td>\n",
       "      <td>Insufficient balance</td>\n",
       "    </tr>\n",
       "    <tr>\n",
       "      <th>1</th>\n",
       "      <td>2022-06-05</td>\n",
       "      <td>2</td>\n",
       "      <td>160</td>\n",
       "      <td>Excess balance</td>\n",
       "    </tr>\n",
       "    <tr>\n",
       "      <th>0</th>\n",
       "      <td>2022-06-05</td>\n",
       "      <td>3</td>\n",
       "      <td>92</td>\n",
       "      <td>Insufficient balance</td>\n",
       "    </tr>\n",
       "  </tbody>\n",
       "</table>\n",
       "</div>"
      ],
      "text/plain": [
       "         Date Period Price         priceCategory\n",
       "0  2022-06-05      1   155  Insufficient balance\n",
       "1  2022-06-05      1   155        Excess balance\n",
       "0  2022-06-05      2   160  Insufficient balance\n",
       "1  2022-06-05      2   160        Excess balance\n",
       "0  2022-06-05      3    92  Insufficient balance"
      ]
     },
     "execution_count": 384,
     "metadata": {},
     "output_type": "execute_result"
    }
   ],
   "source": [
    "df_1770 = pd.DataFrame(df_b1770, columns = ['settlementDate', 'settlementPeriod', 'imbalancePriceAmountGBP', 'priceCategory'])\n",
    "df_1770.rename(columns = {'settlementDate':'Date','settlementPeriod':'Period', 'imbalancePriceAmountGBP':'Price'}, inplace = True)\n",
    "df_1770.head()"
   ]
  },
  {
   "cell_type": "code",
   "execution_count": 386,
   "id": "ac33c30f",
   "metadata": {},
   "outputs": [
    {
     "data": {
      "text/html": [
       "<div>\n",
       "<style scoped>\n",
       "    .dataframe tbody tr th:only-of-type {\n",
       "        vertical-align: middle;\n",
       "    }\n",
       "\n",
       "    .dataframe tbody tr th {\n",
       "        vertical-align: top;\n",
       "    }\n",
       "\n",
       "    .dataframe thead th {\n",
       "        text-align: right;\n",
       "    }\n",
       "</style>\n",
       "<table border=\"1\" class=\"dataframe\">\n",
       "  <thead>\n",
       "    <tr style=\"text-align: right;\">\n",
       "      <th></th>\n",
       "      <th>Date</th>\n",
       "      <th>Period</th>\n",
       "      <th>Volume</th>\n",
       "      <th>imbalanceQuantityDirection</th>\n",
       "    </tr>\n",
       "  </thead>\n",
       "  <tbody>\n",
       "    <tr>\n",
       "      <th>0</th>\n",
       "      <td>2022-06-05</td>\n",
       "      <td>1</td>\n",
       "      <td>129.0101</td>\n",
       "      <td>SURPLUS</td>\n",
       "    </tr>\n",
       "    <tr>\n",
       "      <th>0</th>\n",
       "      <td>2022-06-05</td>\n",
       "      <td>2</td>\n",
       "      <td>62.634</td>\n",
       "      <td>SURPLUS</td>\n",
       "    </tr>\n",
       "    <tr>\n",
       "      <th>0</th>\n",
       "      <td>2022-06-05</td>\n",
       "      <td>3</td>\n",
       "      <td>-174.1763</td>\n",
       "      <td>DEFICIT</td>\n",
       "    </tr>\n",
       "    <tr>\n",
       "      <th>0</th>\n",
       "      <td>2022-06-05</td>\n",
       "      <td>4</td>\n",
       "      <td>-133.2475</td>\n",
       "      <td>DEFICIT</td>\n",
       "    </tr>\n",
       "    <tr>\n",
       "      <th>0</th>\n",
       "      <td>2022-06-05</td>\n",
       "      <td>5</td>\n",
       "      <td>103.0214</td>\n",
       "      <td>SURPLUS</td>\n",
       "    </tr>\n",
       "  </tbody>\n",
       "</table>\n",
       "</div>"
      ],
      "text/plain": [
       "         Date Period     Volume imbalanceQuantityDirection\n",
       "0  2022-06-05      1   129.0101                    SURPLUS\n",
       "0  2022-06-05      2     62.634                    SURPLUS\n",
       "0  2022-06-05      3  -174.1763                    DEFICIT\n",
       "0  2022-06-05      4  -133.2475                    DEFICIT\n",
       "0  2022-06-05      5   103.0214                    SURPLUS"
      ]
     },
     "execution_count": 386,
     "metadata": {},
     "output_type": "execute_result"
    }
   ],
   "source": [
    "df_1780 = pd.DataFrame(df_b1780, columns = ['settlementDate', 'settlementPeriod', 'imbalanceQuantityMAW', 'imbalanceQuantityDirection'])\n",
    "df_1780.rename(columns = {'settlementDate':'Date','settlementPeriod':'Period', 'imbalanceQuantityMAW':'Volume'}, inplace = True)\n",
    "df_1780.head()"
   ]
  },
  {
   "cell_type": "markdown",
   "id": "36d24166",
   "metadata": {},
   "source": [
    "### As SSP=SBP "
   ]
  },
  {
   "cell_type": "code",
   "execution_count": 387,
   "id": "a8f8811c",
   "metadata": {},
   "outputs": [
    {
     "data": {
      "text/html": [
       "<div>\n",
       "<style scoped>\n",
       "    .dataframe tbody tr th:only-of-type {\n",
       "        vertical-align: middle;\n",
       "    }\n",
       "\n",
       "    .dataframe tbody tr th {\n",
       "        vertical-align: top;\n",
       "    }\n",
       "\n",
       "    .dataframe thead th {\n",
       "        text-align: right;\n",
       "    }\n",
       "</style>\n",
       "<table border=\"1\" class=\"dataframe\">\n",
       "  <thead>\n",
       "    <tr style=\"text-align: right;\">\n",
       "      <th></th>\n",
       "      <th>Date</th>\n",
       "      <th>Period</th>\n",
       "      <th>Price</th>\n",
       "      <th>priceCategory</th>\n",
       "    </tr>\n",
       "  </thead>\n",
       "  <tbody>\n",
       "    <tr>\n",
       "      <th>1</th>\n",
       "      <td>2022-06-05</td>\n",
       "      <td>1</td>\n",
       "      <td>155</td>\n",
       "      <td>Excess balance</td>\n",
       "    </tr>\n",
       "    <tr>\n",
       "      <th>1</th>\n",
       "      <td>2022-06-05</td>\n",
       "      <td>2</td>\n",
       "      <td>160</td>\n",
       "      <td>Excess balance</td>\n",
       "    </tr>\n",
       "    <tr>\n",
       "      <th>1</th>\n",
       "      <td>2022-06-05</td>\n",
       "      <td>3</td>\n",
       "      <td>92</td>\n",
       "      <td>Excess balance</td>\n",
       "    </tr>\n",
       "    <tr>\n",
       "      <th>1</th>\n",
       "      <td>2022-06-05</td>\n",
       "      <td>4</td>\n",
       "      <td>86</td>\n",
       "      <td>Excess balance</td>\n",
       "    </tr>\n",
       "    <tr>\n",
       "      <th>1</th>\n",
       "      <td>2022-06-05</td>\n",
       "      <td>5</td>\n",
       "      <td>155</td>\n",
       "      <td>Excess balance</td>\n",
       "    </tr>\n",
       "  </tbody>\n",
       "</table>\n",
       "</div>"
      ],
      "text/plain": [
       "         Date Period Price   priceCategory\n",
       "1  2022-06-05      1   155  Excess balance\n",
       "1  2022-06-05      2   160  Excess balance\n",
       "1  2022-06-05      3    92  Excess balance\n",
       "1  2022-06-05      4    86  Excess balance\n",
       "1  2022-06-05      5   155  Excess balance"
      ]
     },
     "execution_count": 387,
     "metadata": {},
     "output_type": "execute_result"
    }
   ],
   "source": [
    "df_1770_ex = df_1770[df_1770['priceCategory'] =='Excess balance']\n",
    "df_1770_ex.head()"
   ]
  },
  {
   "cell_type": "code",
   "execution_count": 388,
   "id": "b6592953",
   "metadata": {},
   "outputs": [
    {
     "data": {
      "text/html": [
       "<div>\n",
       "<style scoped>\n",
       "    .dataframe tbody tr th:only-of-type {\n",
       "        vertical-align: middle;\n",
       "    }\n",
       "\n",
       "    .dataframe tbody tr th {\n",
       "        vertical-align: top;\n",
       "    }\n",
       "\n",
       "    .dataframe thead th {\n",
       "        text-align: right;\n",
       "    }\n",
       "</style>\n",
       "<table border=\"1\" class=\"dataframe\">\n",
       "  <thead>\n",
       "    <tr style=\"text-align: right;\">\n",
       "      <th></th>\n",
       "      <th>Date</th>\n",
       "      <th>Period</th>\n",
       "      <th>Volume</th>\n",
       "      <th>imbalanceQuantityDirection</th>\n",
       "    </tr>\n",
       "  </thead>\n",
       "  <tbody>\n",
       "    <tr>\n",
       "      <th>0</th>\n",
       "      <td>2022-06-05</td>\n",
       "      <td>1</td>\n",
       "      <td>129.0101</td>\n",
       "      <td>SURPLUS</td>\n",
       "    </tr>\n",
       "    <tr>\n",
       "      <th>0</th>\n",
       "      <td>2022-06-05</td>\n",
       "      <td>2</td>\n",
       "      <td>62.634</td>\n",
       "      <td>SURPLUS</td>\n",
       "    </tr>\n",
       "    <tr>\n",
       "      <th>0</th>\n",
       "      <td>2022-06-05</td>\n",
       "      <td>3</td>\n",
       "      <td>-174.1763</td>\n",
       "      <td>DEFICIT</td>\n",
       "    </tr>\n",
       "    <tr>\n",
       "      <th>0</th>\n",
       "      <td>2022-06-05</td>\n",
       "      <td>4</td>\n",
       "      <td>-133.2475</td>\n",
       "      <td>DEFICIT</td>\n",
       "    </tr>\n",
       "    <tr>\n",
       "      <th>0</th>\n",
       "      <td>2022-06-05</td>\n",
       "      <td>5</td>\n",
       "      <td>103.0214</td>\n",
       "      <td>SURPLUS</td>\n",
       "    </tr>\n",
       "  </tbody>\n",
       "</table>\n",
       "</div>"
      ],
      "text/plain": [
       "         Date Period     Volume imbalanceQuantityDirection\n",
       "0  2022-06-05      1   129.0101                    SURPLUS\n",
       "0  2022-06-05      2     62.634                    SURPLUS\n",
       "0  2022-06-05      3  -174.1763                    DEFICIT\n",
       "0  2022-06-05      4  -133.2475                    DEFICIT\n",
       "0  2022-06-05      5   103.0214                    SURPLUS"
      ]
     },
     "execution_count": 388,
     "metadata": {},
     "output_type": "execute_result"
    }
   ],
   "source": [
    "df_1770_ex.reset_index(inplace=False)\n",
    "df_1780.reset_index(inplace=False)\n",
    "df_1780.head()"
   ]
  },
  {
   "cell_type": "code",
   "execution_count": 389,
   "id": "265ca837",
   "metadata": {},
   "outputs": [
    {
     "name": "stderr",
     "output_type": "stream",
     "text": [
      "C:\\Users\\stigl\\AppData\\Local\\Temp/ipykernel_15508/2038169002.py:1: SettingWithCopyWarning: \n",
      "A value is trying to be set on a copy of a slice from a DataFrame.\n",
      "Try using .loc[row_indexer,col_indexer] = value instead\n",
      "\n",
      "See the caveats in the documentation: https://pandas.pydata.org/pandas-docs/stable/user_guide/indexing.html#returning-a-view-versus-a-copy\n",
      "  df_1770_ex['Price'] = df_1770_ex['Price'].astype(float)\n",
      "C:\\Users\\stigl\\AppData\\Local\\Temp/ipykernel_15508/2038169002.py:2: SettingWithCopyWarning: \n",
      "A value is trying to be set on a copy of a slice from a DataFrame.\n",
      "Try using .loc[row_indexer,col_indexer] = value instead\n",
      "\n",
      "See the caveats in the documentation: https://pandas.pydata.org/pandas-docs/stable/user_guide/indexing.html#returning-a-view-versus-a-copy\n",
      "  df_1770_ex['Period'] = df_1770_ex['Period'].astype(int)\n"
     ]
    }
   ],
   "source": [
    "df_1770_ex['Price'] = df_1770_ex['Price'].astype(float)\n",
    "df_1770_ex['Period'] = df_1770_ex['Period'].astype(int)\n",
    "df_1780['Volume'] = df_1780['Volume'].astype(float)\n",
    "df_1780['Period'] = df_1780['Period'].astype(int)"
   ]
  },
  {
   "cell_type": "markdown",
   "id": "dee961c4",
   "metadata": {},
   "source": [
    "### Creating a Volume (B17780) and Price (B1770)  joint timeseries "
   ]
  },
  {
   "cell_type": "code",
   "execution_count": 390,
   "id": "85a85229",
   "metadata": {},
   "outputs": [
    {
     "data": {
      "text/html": [
       "<div>\n",
       "<style scoped>\n",
       "    .dataframe tbody tr th:only-of-type {\n",
       "        vertical-align: middle;\n",
       "    }\n",
       "\n",
       "    .dataframe tbody tr th {\n",
       "        vertical-align: top;\n",
       "    }\n",
       "\n",
       "    .dataframe thead th {\n",
       "        text-align: right;\n",
       "    }\n",
       "</style>\n",
       "<table border=\"1\" class=\"dataframe\">\n",
       "  <thead>\n",
       "    <tr style=\"text-align: right;\">\n",
       "      <th></th>\n",
       "      <th>Date_x</th>\n",
       "      <th>Period</th>\n",
       "      <th>Price</th>\n",
       "      <th>priceCategory</th>\n",
       "      <th>Date_y</th>\n",
       "      <th>Volume</th>\n",
       "      <th>imbalanceQuantityDirection</th>\n",
       "    </tr>\n",
       "  </thead>\n",
       "  <tbody>\n",
       "    <tr>\n",
       "      <th>0</th>\n",
       "      <td>2022-06-05</td>\n",
       "      <td>1</td>\n",
       "      <td>155.0</td>\n",
       "      <td>Excess balance</td>\n",
       "      <td>2022-06-05</td>\n",
       "      <td>129.0101</td>\n",
       "      <td>SURPLUS</td>\n",
       "    </tr>\n",
       "    <tr>\n",
       "      <th>1</th>\n",
       "      <td>2022-06-05</td>\n",
       "      <td>2</td>\n",
       "      <td>160.0</td>\n",
       "      <td>Excess balance</td>\n",
       "      <td>2022-06-05</td>\n",
       "      <td>62.6340</td>\n",
       "      <td>SURPLUS</td>\n",
       "    </tr>\n",
       "    <tr>\n",
       "      <th>2</th>\n",
       "      <td>2022-06-05</td>\n",
       "      <td>3</td>\n",
       "      <td>92.0</td>\n",
       "      <td>Excess balance</td>\n",
       "      <td>2022-06-05</td>\n",
       "      <td>-174.1763</td>\n",
       "      <td>DEFICIT</td>\n",
       "    </tr>\n",
       "    <tr>\n",
       "      <th>3</th>\n",
       "      <td>2022-06-05</td>\n",
       "      <td>4</td>\n",
       "      <td>86.0</td>\n",
       "      <td>Excess balance</td>\n",
       "      <td>2022-06-05</td>\n",
       "      <td>-133.2475</td>\n",
       "      <td>DEFICIT</td>\n",
       "    </tr>\n",
       "    <tr>\n",
       "      <th>4</th>\n",
       "      <td>2022-06-05</td>\n",
       "      <td>5</td>\n",
       "      <td>155.0</td>\n",
       "      <td>Excess balance</td>\n",
       "      <td>2022-06-05</td>\n",
       "      <td>103.0214</td>\n",
       "      <td>SURPLUS</td>\n",
       "    </tr>\n",
       "  </tbody>\n",
       "</table>\n",
       "</div>"
      ],
      "text/plain": [
       "       Date_x  Period  Price   priceCategory      Date_y    Volume  \\\n",
       "0  2022-06-05       1  155.0  Excess balance  2022-06-05  129.0101   \n",
       "1  2022-06-05       2  160.0  Excess balance  2022-06-05   62.6340   \n",
       "2  2022-06-05       3   92.0  Excess balance  2022-06-05 -174.1763   \n",
       "3  2022-06-05       4   86.0  Excess balance  2022-06-05 -133.2475   \n",
       "4  2022-06-05       5  155.0  Excess balance  2022-06-05  103.0214   \n",
       "\n",
       "  imbalanceQuantityDirection  \n",
       "0                    SURPLUS  \n",
       "1                    SURPLUS  \n",
       "2                    DEFICIT  \n",
       "3                    DEFICIT  \n",
       "4                    SURPLUS  "
      ]
     },
     "execution_count": 390,
     "metadata": {},
     "output_type": "execute_result"
    }
   ],
   "source": [
    "df_1770_1780=pd.merge(df_1770_ex, df_1780, on='Period', how=\"inner\")\n",
    "df_1770_1780.head()"
   ]
  },
  {
   "cell_type": "markdown",
   "id": "1534495d",
   "metadata": {},
   "source": [
    "### The Imbalance Volume Time-Series B1780- first time series"
   ]
  },
  {
   "cell_type": "code",
   "execution_count": 391,
   "id": "a82f7056",
   "metadata": {},
   "outputs": [
    {
     "data": {
      "text/html": [
       "<div>\n",
       "<style scoped>\n",
       "    .dataframe tbody tr th:only-of-type {\n",
       "        vertical-align: middle;\n",
       "    }\n",
       "\n",
       "    .dataframe tbody tr th {\n",
       "        vertical-align: top;\n",
       "    }\n",
       "\n",
       "    .dataframe thead th {\n",
       "        text-align: right;\n",
       "    }\n",
       "</style>\n",
       "<table border=\"1\" class=\"dataframe\">\n",
       "  <thead>\n",
       "    <tr style=\"text-align: right;\">\n",
       "      <th></th>\n",
       "      <th>Date</th>\n",
       "      <th>Period</th>\n",
       "      <th>Volume</th>\n",
       "      <th>imbalanceQuantityDirection</th>\n",
       "      <th>Time</th>\n",
       "    </tr>\n",
       "  </thead>\n",
       "  <tbody>\n",
       "    <tr>\n",
       "      <th>0</th>\n",
       "      <td>2022-06-05</td>\n",
       "      <td>1</td>\n",
       "      <td>129.0101</td>\n",
       "      <td>SURPLUS</td>\n",
       "      <td>0:00:00</td>\n",
       "    </tr>\n",
       "    <tr>\n",
       "      <th>0</th>\n",
       "      <td>2022-06-05</td>\n",
       "      <td>2</td>\n",
       "      <td>62.6340</td>\n",
       "      <td>SURPLUS</td>\n",
       "      <td>0:30:00</td>\n",
       "    </tr>\n",
       "    <tr>\n",
       "      <th>0</th>\n",
       "      <td>2022-06-05</td>\n",
       "      <td>3</td>\n",
       "      <td>-174.1763</td>\n",
       "      <td>DEFICIT</td>\n",
       "      <td>1:00:00</td>\n",
       "    </tr>\n",
       "    <tr>\n",
       "      <th>0</th>\n",
       "      <td>2022-06-05</td>\n",
       "      <td>4</td>\n",
       "      <td>-133.2475</td>\n",
       "      <td>DEFICIT</td>\n",
       "      <td>1:30:00</td>\n",
       "    </tr>\n",
       "    <tr>\n",
       "      <th>0</th>\n",
       "      <td>2022-06-05</td>\n",
       "      <td>5</td>\n",
       "      <td>103.0214</td>\n",
       "      <td>SURPLUS</td>\n",
       "      <td>2:00:00</td>\n",
       "    </tr>\n",
       "  </tbody>\n",
       "</table>\n",
       "</div>"
      ],
      "text/plain": [
       "         Date  Period    Volume imbalanceQuantityDirection     Time\n",
       "0  2022-06-05       1  129.0101                    SURPLUS  0:00:00\n",
       "0  2022-06-05       2   62.6340                    SURPLUS  0:30:00\n",
       "0  2022-06-05       3 -174.1763                    DEFICIT  1:00:00\n",
       "0  2022-06-05       4 -133.2475                    DEFICIT  1:30:00\n",
       "0  2022-06-05       5  103.0214                    SURPLUS  2:00:00"
      ]
     },
     "execution_count": 391,
     "metadata": {},
     "output_type": "execute_result"
    }
   ],
   "source": [
    "dat_1780= time_series_conv(df_1780, sp, k=1)\n",
    "dat_1780.head()"
   ]
  },
  {
   "cell_type": "markdown",
   "id": "521e633c",
   "metadata": {},
   "source": [
    "##  The joint Imbalance Volume-Price Series B1770 / B1780 series"
   ]
  },
  {
   "cell_type": "code",
   "execution_count": 392,
   "id": "1f812627",
   "metadata": {
    "scrolled": true
   },
   "outputs": [
    {
     "data": {
      "text/html": [
       "<div>\n",
       "<style scoped>\n",
       "    .dataframe tbody tr th:only-of-type {\n",
       "        vertical-align: middle;\n",
       "    }\n",
       "\n",
       "    .dataframe tbody tr th {\n",
       "        vertical-align: top;\n",
       "    }\n",
       "\n",
       "    .dataframe thead th {\n",
       "        text-align: right;\n",
       "    }\n",
       "</style>\n",
       "<table border=\"1\" class=\"dataframe\">\n",
       "  <thead>\n",
       "    <tr style=\"text-align: right;\">\n",
       "      <th></th>\n",
       "      <th>Date_x</th>\n",
       "      <th>Period</th>\n",
       "      <th>Price</th>\n",
       "      <th>priceCategory</th>\n",
       "      <th>Date_y</th>\n",
       "      <th>Volume</th>\n",
       "      <th>imbalanceQuantityDirection</th>\n",
       "      <th>Time</th>\n",
       "    </tr>\n",
       "  </thead>\n",
       "  <tbody>\n",
       "    <tr>\n",
       "      <th>0</th>\n",
       "      <td>2022-06-05</td>\n",
       "      <td>1</td>\n",
       "      <td>155.0</td>\n",
       "      <td>Excess balance</td>\n",
       "      <td>2022-06-05</td>\n",
       "      <td>129.0101</td>\n",
       "      <td>SURPLUS</td>\n",
       "      <td>0:00:00</td>\n",
       "    </tr>\n",
       "    <tr>\n",
       "      <th>1</th>\n",
       "      <td>2022-06-05</td>\n",
       "      <td>2</td>\n",
       "      <td>160.0</td>\n",
       "      <td>Excess balance</td>\n",
       "      <td>2022-06-05</td>\n",
       "      <td>62.6340</td>\n",
       "      <td>SURPLUS</td>\n",
       "      <td>0:30:00</td>\n",
       "    </tr>\n",
       "    <tr>\n",
       "      <th>2</th>\n",
       "      <td>2022-06-05</td>\n",
       "      <td>3</td>\n",
       "      <td>92.0</td>\n",
       "      <td>Excess balance</td>\n",
       "      <td>2022-06-05</td>\n",
       "      <td>-174.1763</td>\n",
       "      <td>DEFICIT</td>\n",
       "      <td>1:00:00</td>\n",
       "    </tr>\n",
       "    <tr>\n",
       "      <th>3</th>\n",
       "      <td>2022-06-05</td>\n",
       "      <td>4</td>\n",
       "      <td>86.0</td>\n",
       "      <td>Excess balance</td>\n",
       "      <td>2022-06-05</td>\n",
       "      <td>-133.2475</td>\n",
       "      <td>DEFICIT</td>\n",
       "      <td>1:30:00</td>\n",
       "    </tr>\n",
       "    <tr>\n",
       "      <th>4</th>\n",
       "      <td>2022-06-05</td>\n",
       "      <td>5</td>\n",
       "      <td>155.0</td>\n",
       "      <td>Excess balance</td>\n",
       "      <td>2022-06-05</td>\n",
       "      <td>103.0214</td>\n",
       "      <td>SURPLUS</td>\n",
       "      <td>2:00:00</td>\n",
       "    </tr>\n",
       "  </tbody>\n",
       "</table>\n",
       "</div>"
      ],
      "text/plain": [
       "       Date_x  Period  Price   priceCategory      Date_y    Volume  \\\n",
       "0  2022-06-05       1  155.0  Excess balance  2022-06-05  129.0101   \n",
       "1  2022-06-05       2  160.0  Excess balance  2022-06-05   62.6340   \n",
       "2  2022-06-05       3   92.0  Excess balance  2022-06-05 -174.1763   \n",
       "3  2022-06-05       4   86.0  Excess balance  2022-06-05 -133.2475   \n",
       "4  2022-06-05       5  155.0  Excess balance  2022-06-05  103.0214   \n",
       "\n",
       "  imbalanceQuantityDirection     Time  \n",
       "0                    SURPLUS  0:00:00  \n",
       "1                    SURPLUS  0:30:00  \n",
       "2                    DEFICIT  1:00:00  \n",
       "3                    DEFICIT  1:30:00  \n",
       "4                    SURPLUS  2:00:00  "
      ]
     },
     "execution_count": 392,
     "metadata": {},
     "output_type": "execute_result"
    }
   ],
   "source": [
    "dat_1770_1780= time_series_conv(df_1770_1780, sp, k=1)\n",
    "dat_1770_1780.head()"
   ]
  },
  {
   "cell_type": "markdown",
   "id": "3ca50cb8",
   "metadata": {},
   "source": [
    "## The time series graph, the price distribution, regression and correlation graphs"
   ]
  },
  {
   "cell_type": "code",
   "execution_count": 393,
   "id": "e2149dc2",
   "metadata": {},
   "outputs": [
    {
     "data": {
      "image/png": "[encoded data removed]",
      "text/plain": [
       "<Figure size 864x576 with 1 Axes>"
      ]
     },
     "metadata": {
      "needs_background": "light"
     },
     "output_type": "display_data"
    }
   ],
   "source": [
    "ax = dat_1770_1780.plot.bar(x='Time',y='Volume', ylabel='Imbalance Quantity in MwH', figsize=(12, 8))\n",
    "dat_1770_1780.plot(y='Price', c='k', ax=ax, use_index=False, secondary_y=False, mark_right=False)\n",
    "ax.set_ylabel('Imbalance Price in GBP')\n",
    "ax.tick_params(axis='x', labelrotation = 90)"
   ]
  },
  {
   "cell_type": "code",
   "execution_count": 341,
   "id": "6f07ea3d",
   "metadata": {
    "scrolled": true
   },
   "outputs": [
    {
     "data": {
      "image/png": "[encoded data removed]",
      "text/plain": [
       "<Figure size 432x288 with 1 Axes>"
      ]
     },
     "metadata": {
      "needs_background": "light"
     },
     "output_type": "display_data"
    }
   ],
   "source": [
    "hist = dat_1770_1780['Price'].hist(bins=10)"
   ]
  },
  {
   "cell_type": "code",
   "execution_count": 372,
   "id": "cf48d74b",
   "metadata": {},
   "outputs": [
    {
     "name": "stdout",
     "output_type": "stream",
     "text": [
      "0.896\n"
     ]
    }
   ],
   "source": [
    "print(\"%.3f\" % dat_1770_1780['Volume'].corr(dat_1770_1780['Price']))"
   ]
  },
  {
   "cell_type": "markdown",
   "id": "97e3ac7e",
   "metadata": {},
   "source": [
    "# The Total Daily Cost & Average unit cost of previous day"
   ]
  },
  {
   "cell_type": "code",
   "execution_count": 343,
   "id": "9ab42395",
   "metadata": {},
   "outputs": [
    {
     "name": "stdout",
     "output_type": "stream",
     "text": [
      "The total cost on 2022-06-05 was 2376229.95 GBP\n",
      "The average unit cost on 2022-06-05 was 230.91 GBP/MwH\n"
     ]
    }
   ],
   "source": [
    "if (dat_1770_1780['Volume'].sum()!=0):\n",
    "    total_cost=(dat_1770_1780['Volume'] * dat_1770_1780['Price']).sum()\n",
    "    avg=total_cost/dat_1770_1780['Volume'].sum()\n",
    "else:\n",
    "    raise ValueError('The average unit pricee is indeterminate')\n",
    "print ('The total cost on', start_period, 'was', \"%.2f\" %total_cost ,'GBP')\n",
    "print ('The average unit cost on', start_period, 'was', \"%.2f\" %avg ,'GBP/MwH')    "
   ]
  },
  {
   "cell_type": "markdown",
   "id": "4db9611c",
   "metadata": {},
   "source": [
    "### The highest volume time start period"
   ]
  },
  {
   "cell_type": "code",
   "execution_count": 401,
   "id": "998fbd63",
   "metadata": {},
   "outputs": [
    {
     "name": "stdout",
     "output_type": "stream",
     "text": [
      "The highest volume started at: 12:00:00\n"
     ]
    }
   ],
   "source": [
    "idx = find_high(dat_1780,sp,j=2)\n",
    "print ('The highest volume started at:', dat_1770_1780['Time'][idx],)"
   ]
  },
  {
   "cell_type": "markdown",
   "id": "74c6d983",
   "metadata": {},
   "source": [
    "# Modules"
   ]
  },
  {
   "cell_type": "markdown",
   "id": "c2c1576c",
   "metadata": {},
   "source": [
    "### GET Price and Volume Modules"
   ]
  },
  {
   "cell_type": "code",
   "execution_count": 374,
   "id": "5b7d72a1",
   "metadata": {},
   "outputs": [],
   "source": [
    "def get_B1770(\n",
    "    api_version='v1',\n",
    "    api_key='*',\n",
    "    settlement_period=None,\n",
    "    periods='*',\n",
    "    service_type='xml',\n",
    "    api_base_url = f\"https://api.bmreports.com/BMRS/B1770/\"\n",
    "    \n",
    "):\n",
    "  \n",
    "    for num in range(1, periods):\n",
    "        endpoint = f\"{api_base_url}{api_version}?APIKey={api_key}&SettlementDate={settlement_period}&Period={str(num)}&ServiceType={service_type}\"\n",
    "        r = requests.get(endpoint)\n",
    "        df = parse_xml_response(r)\n",
    "    \n",
    "        if num==1:\n",
    "            data=pd.DataFrame(df)\n",
    "        else:\n",
    "            data=data.append(df)   \n",
    "    return(data)"
   ]
  },
  {
   "cell_type": "code",
   "execution_count": 375,
   "id": "61853e7a",
   "metadata": {},
   "outputs": [],
   "source": [
    "def get_B1780(\n",
    "    api_version='v1',\n",
    "    api_key='*',\n",
    "    settlement_period=None,\n",
    "    periods='*',\n",
    "    service_type='xml',\n",
    "    api_base_url = f\"https://api.bmreports.com/BMRS/B1780/\"\n",
    "    \n",
    "):\n",
    "  \n",
    "    for num in range(1, periods):\n",
    "        endpoint = f\"{api_base_url}{api_version}?APIKey={api_key}&SettlementDate={settlement_period}&Period={str(num)}&ServiceType={service_type}\"\n",
    "        r = requests.get(endpoint)\n",
    "        df = parse_xml_response(r)\n",
    "    \n",
    "        if num==1:\n",
    "            data=pd.DataFrame(df)\n",
    "        else:\n",
    "            data=data.append(df)   \n",
    "    return(data)"
   ]
  },
  {
   "cell_type": "markdown",
   "id": "88a005b2",
   "metadata": {},
   "source": [
    "### Calculating nos of Settlement Periods every day taking into account Daylight"
   ]
  },
  {
   "cell_type": "code",
   "execution_count": 347,
   "id": "5b1b1c17",
   "metadata": {},
   "outputs": [],
   "source": [
    "def daylight_saving(\n",
    "    start_date: start_period, \n",
    "    end_date: end_period, \n",
    "    freq: str='30T', \n",
    "    tz: str='Europe/London'\n",
    "):\n",
    "    dt_rng = pd.date_range(start_date, end_date, freq=freq, tz=tz)\n",
    "\n",
    "    SPs = list((2*(dt_rng.hour + dt_rng.minute/60) + 1).astype(int))\n",
    "    dt_strs = list(dt_rng.strftime('%Y-%m-%d'))\n",
    "\n",
    "    df_dates_SPs = pd.DataFrame({'date':dt_strs, 'SP':SPs}, index=dt_rng).astype(str)\n",
    "    \n",
    "    # Accounting for daylight saving changes\n",
    "    clock_change_dt_idxs_dir = pd.Series(dt_rng).apply(lambda dt: dt.utcoffset().total_seconds()).diff().replace(0, np.nan).dropna()\n",
    "\n",
    "    for dt_idx, dir_ in clock_change_dt_idxs_dir.items():\n",
    "        dt = dt_rng[dt_idx].date()\n",
    "        SPs = (1 + 2*(dt_rng[dt_rng.date==dt] - pd.to_datetime(dt).tz_localize('Europe/London')).total_seconds()/(60*60)).astype(int)\n",
    "        \n",
    "        df_dates_SPs.loc[df_dates_SPs.index.date==dt, 'SP'] = SPs\n",
    "    \n",
    "    return df_dates_SPs"
   ]
  },
  {
   "cell_type": "markdown",
   "id": "c5f2fe33",
   "metadata": {},
   "source": [
    "### Parsing the XML Get Response"
   ]
  },
  {
   "cell_type": "code",
   "execution_count": 376,
   "id": "b0b6aec0",
   "metadata": {},
   "outputs": [],
   "source": [
    "def parse_xml_response(r):\n",
    "    r_dict = xmltodict.parse(r.text)\n",
    "\n",
    "    status_check_response = check_status(r)\n",
    "    if status_check_response is not None:\n",
    "        return status_check_response\n",
    "\n",
    "    capping_applied = check_capping(r)\n",
    "\n",
    "    data_content = r_dict['response']['responseBody']['responseList']['item']\n",
    "\n",
    "    if isinstance(data_content, list):\n",
    "        df = expand_cols(pd.DataFrame(data_content))\n",
    "    elif isinstance(data_content, OrderedDict) or isinstance(data_content, dict):\n",
    "        df = pd.DataFrame(pd.Series(data_content)).T\n",
    "    else:\n",
    "        raise ValueError('The returned `data_content` must be one of: `list`, `dict`, or `OrderedDict`')\n",
    "\n",
    "    return df"
   ]
  },
  {
   "cell_type": "markdown",
   "id": "50a69f9f",
   "metadata": {},
   "source": [
    "### Checking status of each GET query "
   ]
  },
  {
   "cell_type": "code",
   "execution_count": 348,
   "id": "ac1928eb",
   "metadata": {},
   "outputs": [],
   "source": [
    "def check_status(r):\n",
    "    r_metadata = xmltodict.parse(r.text)['response']['responseMetadata']\n",
    "    \n",
    "    if r_metadata['httpCode'] == '204':\n",
    "        warn(f'Data request was succesful but no content was returned')\n",
    "        return pd.DataFrame()\n",
    "        \n",
    "    elif r_metadata['httpCode'] != '200':\n",
    "        raise RequestError(r_metadata['httpCode'], r_metadata['errorType'], r_metadata['description'])\n",
    "        \n",
    "    return None"
   ]
  },
  {
   "cell_type": "markdown",
   "id": "35f1faf5",
   "metadata": {},
   "source": [
    "### Checking for capping "
   ]
  },
  {
   "cell_type": "code",
   "execution_count": 349,
   "id": "95c445ad",
   "metadata": {},
   "outputs": [],
   "source": [
    "def check_capping(r):\n",
    "    r_metadata = xmltodict.parse(r.text)['response']['responseMetadata']\n",
    "    \n",
    "    if 'cappingApplied' in r_metadata.keys():\n",
    "        if r_metadata['cappingApplied'] == 'Yes':\n",
    "            capping_applied = True\n",
    "        else:\n",
    "            capping_applied = False\n",
    "    else:\n",
    "        capping_applied = 'Could not be determined'\n",
    "        \n",
    "    return capping_applied"
   ]
  },
  {
   "cell_type": "markdown",
   "id": "1fe3479d",
   "metadata": {},
   "source": [
    "### Convert the XML to dataframe for Data "
   ]
  },
  {
   "cell_type": "code",
   "execution_count": null,
   "id": "d99d947f",
   "metadata": {},
   "outputs": [],
   "source": [
    "def expand_cols(df, cols_2_expand=[]):\n",
    "    if df.size == 0:\n",
    "        return df\n",
    "    \n",
    "    for col in cols_2_expand:\n",
    "        new_df_cols = df[col].apply(pd.Series)\n",
    "\n",
    "        df[new_df_cols.columns] = new_df_cols\n",
    "        df = df.drop(columns=col)\n",
    "\n",
    "    s_cols_2_expand = df.iloc[0].apply(type).isin([OrderedDict, dict, list, tuple])\n",
    "\n",
    "    if s_cols_2_expand.sum() > 0:\n",
    "        cols_2_expand = s_cols_2_expand[s_cols_2_expand].index\n",
    "        df = expand_cols(df, cols_2_expand)\n",
    "\n",
    "    return df"
   ]
  },
  {
   "cell_type": "markdown",
   "id": "8584ad62",
   "metadata": {},
   "source": [
    "### Converting Settlement Periods to datetime and timeseries"
   ]
  },
  {
   "cell_type": "code",
   "execution_count": null,
   "id": "e6736f55",
   "metadata": {},
   "outputs": [],
   "source": [
    "def time_series_conv(df,period,k):\n",
    "    df['Time']=''\n",
    "    for i in range (0, period-1):\n",
    "        c = df.iloc[i, k].item()-1\n",
    "        b = str(dt.timedelta(hours=0, minutes=30*c))\n",
    "        df.iloc[i, -1]=b\n",
    "    return(df)"
   ]
  },
  {
   "cell_type": "code",
   "execution_count": 400,
   "id": "71377ded",
   "metadata": {},
   "outputs": [],
   "source": [
    "def find_high (df, periods, j):\n",
    "    df['crawler']=''\n",
    "    for i in range (0, periods-1):\n",
    "        if i%2!=0:\n",
    "            df.iloc[i,-1]=abs(df.iloc[i,j])+abs(df.iloc[i-1,j])\n",
    "        else:\n",
    "            df.iloc[i,-1]=0.00\n",
    "    df['crawler'] = df['crawler'].astype(str).astype(float)\n",
    "    b=df['crawler'].argmax()-1\n",
    "    return(b)"
   ]
  },
  {
   "cell_type": "code",
   "execution_count": null,
   "id": "5c49fb22",
   "metadata": {},
   "outputs": [],
   "source": []
  }
 ],
 "metadata": {
  "kernelspec": {
   "display_name": "Python 3 (ipykernel)",
   "language": "python",
   "name": "python3"
  },
  "language_info": {
   "codemirror_mode": {
    "name": "ipython",
    "version": 3
   },
   "file_extension": ".py",
   "mimetype": "text/x-python",
   "name": "python",
   "nbconvert_exporter": "python",
   "pygments_lexer": "ipython3",
   "version": "3.9.7"
  }
 },
 "nbformat": 4,
 "nbformat_minor": 5
}
